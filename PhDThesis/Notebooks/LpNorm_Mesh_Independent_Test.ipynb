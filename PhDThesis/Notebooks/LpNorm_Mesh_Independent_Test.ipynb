{
 "cells": [
  {
   "cell_type": "code",
   "execution_count": 1,
   "metadata": {},
   "outputs": [],
   "source": [
    "import numpy as np\n",
    "import matplotlib.pyplot as plt"
   ]
  },
  {
   "cell_type": "code",
   "execution_count": 48,
   "metadata": {},
   "outputs": [],
   "source": [
    "# Compute the norm of the discrete function\n",
    "def lp_norm(dx, func, p):\n",
    "    return np.sum(np.abs(func)**p * dx)\n",
    "\n",
    "def Lawson_norm(dx, func, p, eps):\n",
    "    return np.sum(dx * func**2 / (func**2 + eps**2)**(1-p/2))\n",
    "\n",
    "def Lawson_norm_deriv(dx, func, p, eps):\n",
    "    \n",
    "    # Cell face distance\n",
    "    h = (dx[:-1] + dx[1:])/2\n",
    "    h_scale = h.min()\n",
    "    return np.sum(\n",
    "        h * \n",
    "        ((func[1:] - func[:-1]) / h)**2 / \n",
    "        (((func[1:] - func[:-1]) / h)**2 + (eps)**2)**(1-p/2))"
   ]
  },
  {
   "cell_type": "code",
   "execution_count": 37,
   "metadata": {},
   "outputs": [
    {
     "name": "stdout",
     "output_type": "stream",
     "text": [
      "Lp-norm: 1.660549e-01\n",
      "Lawson-norm: 1.660297e-01\n"
     ]
    },
    {
     "data": {
      "image/png": "[encoded data removed]",
      "text/plain": [
       "<Figure size 432x288 with 1 Axes>"
      ]
     },
     "metadata": {
      "needs_background": "light"
     },
     "output_type": "display_data"
    }
   ],
   "source": [
    "# Create a simple function on a random mesh from [0, 1]\n",
    "nC = 10\n",
    "dx = np.random.rand(nC)\n",
    "\n",
    "# Normalize the grid from 0 to 1\n",
    "dx /= np.sum(dx)\n",
    "\n",
    "# Define cell center locations\n",
    "x = np.cumsum(dx) - dx/2\n",
    "\n",
    "f_x = 0.5*x**2\n",
    "\n",
    "# The theoritical integral of x**2 on interval [0,1] for p=1\n",
    "int_f = 0.5/3 * (1)**3\n",
    "\n",
    "fig, axs = plt.figure(), plt.subplot()\n",
    "axs.fill_between(x, f_x, step=\"pre\")\n",
    "axs.plot(x, f_x, 'r')\n",
    "\n",
    "epsilon = 1e-3\n",
    "print(\"Lp-norm: %e\" % lp_norm(dx, f_x, 1))\n",
    "print(\"Lawson-norm: %e\" % Lawson_norm(dx, f_x, 1, epsilon))"
   ]
  },
  {
   "cell_type": "code",
   "execution_count": 49,
   "metadata": {},
   "outputs": [
    {
     "name": "stdout",
     "output_type": "stream",
     "text": [
      "Lp-norm: 5.000000e-01\n",
      "Lawson-norm: 4.873502e-01\n",
      "Lawson-norm deriv: 4.433785e-01\n"
     ]
    },
    {
     "data": {
      "image/png": "[encoded data removed]",
      "text/plain": [
       "<Figure size 432x288 with 1 Axes>"
      ]
     },
     "metadata": {
      "needs_background": "light"
     },
     "output_type": "display_data"
    }
   ],
   "source": [
    "# Repeat with derivative of f_x\n",
    "df_x_dx = x\n",
    "\n",
    "# The theoritical integral of f(x) for p=1\n",
    "int_df_x_dx = 1\n",
    "\n",
    "fig, axs = plt.figure(), plt.subplot()\n",
    "axs.fill_between(x, df_x_dx, step=\"pre\")\n",
    "\n",
    "axs.plot(x, df_x_dx, 'r')\n",
    "\n",
    "epsilon = 1e-1\n",
    "print(\"Lp-norm: %e\" % lp_norm(dx, df_x_dx, 1))\n",
    "print(\"Lawson-norm: %e\" % Lawson_norm(dx, df_x_dx, 1, epsilon))\n",
    "print(\"Lawson-norm deriv: %e\" % Lawson_norm_deriv(dx, f_x, 1, epsilon))"
   ]
  },
  {
   "cell_type": "code",
   "execution_count": 50,
   "metadata": {},
   "outputs": [
    {
     "ename": "SyntaxError",
     "evalue": "invalid syntax (<ipython-input-50-084798caa9f7>, line 1)",
     "output_type": "error",
     "traceback": [
      "\u001b[1;36m  File \u001b[1;32m\"<ipython-input-50-084798caa9f7>\"\u001b[1;36m, line \u001b[1;32m1\u001b[0m\n\u001b[1;33m    1.astype(int\u001b[0m\n\u001b[1;37m           ^\u001b[0m\n\u001b[1;31mSyntaxError\u001b[0m\u001b[1;31m:\u001b[0m invalid syntax\n"
     ]
    }
   ],
   "source": [
    "np.int32"
   ]
  }
 ],
 "metadata": {
  "kernelspec": {
   "display_name": "Python 3",
   "language": "python",
   "name": "python3"
  },
  "language_info": {
   "codemirror_mode": {
    "name": "ipython",
    "version": 3
   },
   "file_extension": ".py",
   "mimetype": "text/x-python",
   "name": "python",
   "nbconvert_exporter": "python",
   "pygments_lexer": "ipython3",
   "version": "3.7.3"
  }
 },
 "nbformat": 4,
 "nbformat_minor": 2
}
